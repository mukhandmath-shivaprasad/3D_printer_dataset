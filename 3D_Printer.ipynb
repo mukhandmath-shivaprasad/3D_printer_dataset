{
  "nbformat": 4,
  "nbformat_minor": 0,
  "metadata": {
    "colab": {
      "name": "3D_Printer.ipynb",
      "provenance": [],
      "mount_file_id": "1cG3omMrRF2u9o9Wz2MoN12ePsY3eHsVp",
      "authorship_tag": "ABX9TyNyAIB2jXRjQpnZyfTROdiv",
      "include_colab_link": true
    },
    "kernelspec": {
      "name": "python3",
      "display_name": "Python 3"
    },
    "language_info": {
      "name": "python"
    }
  },
  "cells": [
    {
      "cell_type": "markdown",
      "metadata": {
        "id": "view-in-github",
        "colab_type": "text"
      },
      "source": [
        "<a href=\"https://colab.research.google.com/github/mukhandmath-shivaprasad/3D_printer_dataset/blob/main/3D_Printer.ipynb\" target=\"_parent\"><img src=\"https://colab.research.google.com/assets/colab-badge.svg\" alt=\"Open In Colab\"/></a>"
      ]
    },
    {
      "cell_type": "code",
      "execution_count": null,
      "metadata": {
        "id": "ExI8Y5lgzXdk"
      },
      "outputs": [],
      "source": [
        "# import os\n",
        "# import tarfile\n",
        "# import urllib"
      ]
    },
    {
      "cell_type": "code",
      "source": [
        "from google.colab import drive\n",
        "drive.mount('/content/drive')"
      ],
      "metadata": {
        "colab": {
          "base_uri": "https://localhost:8080/"
        },
        "id": "z1Rhu90l0EWO",
        "outputId": "f66ffe88-7c6b-42ac-bde6-a7847102c105"
      },
      "execution_count": null,
      "outputs": [
        {
          "output_type": "stream",
          "name": "stdout",
          "text": [
            "Drive already mounted at /content/drive; to attempt to forcibly remount, call drive.mount(\"/content/drive\", force_remount=True).\n"
          ]
        }
      ]
    },
    {
      "cell_type": "code",
      "source": [
        "# folder_path = os.path.join('dataset','3d_printer')\n",
        "# def fetch_data(path = path, folder_path = folder_path ):\n",
        "#   if not os.path.isdir(folder_path):\n",
        "#     os.makedirs(folder_path)\n",
        "#   zip_path = os.path.join(folder_path, '3d_printer.zip')\n",
        "#   urllib.request.urlretrieve()"
      ],
      "metadata": {
        "id": "zmpgKLGV0IOq"
      },
      "execution_count": null,
      "outputs": []
    },
    {
      "cell_type": "code",
      "source": [
        "import pandas as pd\n",
        "import numpy as np\n",
        "import matplotlib.pyplot as plt"
      ],
      "metadata": {
        "id": "m3cnPMpb1oRM"
      },
      "execution_count": null,
      "outputs": []
    },
    {
      "cell_type": "code",
      "source": [
        "df = pd.read_csv('/content/drive/MyDrive/ML Projects/3D printer /data.csv')\n",
        "df.head()"
      ],
      "metadata": {
        "colab": {
          "base_uri": "https://localhost:8080/",
          "height": 270
        },
        "id": "pIOCOG2Q1wMI",
        "outputId": "b381bd6f-caca-4c5f-aab5-5f123c7055b1"
      },
      "execution_count": null,
      "outputs": [
        {
          "output_type": "execute_result",
          "data": {
            "text/plain": [
              "   layer_height  wall_thickness  infill_density infill_pattern  \\\n",
              "0          0.02               8              90           grid   \n",
              "1          0.02               7              90      honeycomb   \n",
              "2          0.02               1              80           grid   \n",
              "3          0.02               4              70      honeycomb   \n",
              "4          0.02               6              90           grid   \n",
              "\n",
              "   nozzle_temperature  bed_temperature  print_speed material  fan_speed  \\\n",
              "0                 220               60           40      abs          0   \n",
              "1                 225               65           40      abs         25   \n",
              "2                 230               70           40      abs         50   \n",
              "3                 240               75           40      abs         75   \n",
              "4                 250               80           40      abs        100   \n",
              "\n",
              "   roughness  tension_strenght  elongation  \n",
              "0         25                18         1.2  \n",
              "1         32                16         1.4  \n",
              "2         40                 8         0.8  \n",
              "3         68                10         0.5  \n",
              "4         92                 5         0.7  "
            ],
            "text/html": [
              "\n",
              "  <div id=\"df-40632899-6210-4057-83be-1d7fa9eb649f\">\n",
              "    <div class=\"colab-df-container\">\n",
              "      <div>\n",
              "<style scoped>\n",
              "    .dataframe tbody tr th:only-of-type {\n",
              "        vertical-align: middle;\n",
              "    }\n",
              "\n",
              "    .dataframe tbody tr th {\n",
              "        vertical-align: top;\n",
              "    }\n",
              "\n",
              "    .dataframe thead th {\n",
              "        text-align: right;\n",
              "    }\n",
              "</style>\n",
              "<table border=\"1\" class=\"dataframe\">\n",
              "  <thead>\n",
              "    <tr style=\"text-align: right;\">\n",
              "      <th></th>\n",
              "      <th>layer_height</th>\n",
              "      <th>wall_thickness</th>\n",
              "      <th>infill_density</th>\n",
              "      <th>infill_pattern</th>\n",
              "      <th>nozzle_temperature</th>\n",
              "      <th>bed_temperature</th>\n",
              "      <th>print_speed</th>\n",
              "      <th>material</th>\n",
              "      <th>fan_speed</th>\n",
              "      <th>roughness</th>\n",
              "      <th>tension_strenght</th>\n",
              "      <th>elongation</th>\n",
              "    </tr>\n",
              "  </thead>\n",
              "  <tbody>\n",
              "    <tr>\n",
              "      <th>0</th>\n",
              "      <td>0.02</td>\n",
              "      <td>8</td>\n",
              "      <td>90</td>\n",
              "      <td>grid</td>\n",
              "      <td>220</td>\n",
              "      <td>60</td>\n",
              "      <td>40</td>\n",
              "      <td>abs</td>\n",
              "      <td>0</td>\n",
              "      <td>25</td>\n",
              "      <td>18</td>\n",
              "      <td>1.2</td>\n",
              "    </tr>\n",
              "    <tr>\n",
              "      <th>1</th>\n",
              "      <td>0.02</td>\n",
              "      <td>7</td>\n",
              "      <td>90</td>\n",
              "      <td>honeycomb</td>\n",
              "      <td>225</td>\n",
              "      <td>65</td>\n",
              "      <td>40</td>\n",
              "      <td>abs</td>\n",
              "      <td>25</td>\n",
              "      <td>32</td>\n",
              "      <td>16</td>\n",
              "      <td>1.4</td>\n",
              "    </tr>\n",
              "    <tr>\n",
              "      <th>2</th>\n",
              "      <td>0.02</td>\n",
              "      <td>1</td>\n",
              "      <td>80</td>\n",
              "      <td>grid</td>\n",
              "      <td>230</td>\n",
              "      <td>70</td>\n",
              "      <td>40</td>\n",
              "      <td>abs</td>\n",
              "      <td>50</td>\n",
              "      <td>40</td>\n",
              "      <td>8</td>\n",
              "      <td>0.8</td>\n",
              "    </tr>\n",
              "    <tr>\n",
              "      <th>3</th>\n",
              "      <td>0.02</td>\n",
              "      <td>4</td>\n",
              "      <td>70</td>\n",
              "      <td>honeycomb</td>\n",
              "      <td>240</td>\n",
              "      <td>75</td>\n",
              "      <td>40</td>\n",
              "      <td>abs</td>\n",
              "      <td>75</td>\n",
              "      <td>68</td>\n",
              "      <td>10</td>\n",
              "      <td>0.5</td>\n",
              "    </tr>\n",
              "    <tr>\n",
              "      <th>4</th>\n",
              "      <td>0.02</td>\n",
              "      <td>6</td>\n",
              "      <td>90</td>\n",
              "      <td>grid</td>\n",
              "      <td>250</td>\n",
              "      <td>80</td>\n",
              "      <td>40</td>\n",
              "      <td>abs</td>\n",
              "      <td>100</td>\n",
              "      <td>92</td>\n",
              "      <td>5</td>\n",
              "      <td>0.7</td>\n",
              "    </tr>\n",
              "  </tbody>\n",
              "</table>\n",
              "</div>\n",
              "      <button class=\"colab-df-convert\" onclick=\"convertToInteractive('df-40632899-6210-4057-83be-1d7fa9eb649f')\"\n",
              "              title=\"Convert this dataframe to an interactive table.\"\n",
              "              style=\"display:none;\">\n",
              "        \n",
              "  <svg xmlns=\"http://www.w3.org/2000/svg\" height=\"24px\"viewBox=\"0 0 24 24\"\n",
              "       width=\"24px\">\n",
              "    <path d=\"M0 0h24v24H0V0z\" fill=\"none\"/>\n",
              "    <path d=\"M18.56 5.44l.94 2.06.94-2.06 2.06-.94-2.06-.94-.94-2.06-.94 2.06-2.06.94zm-11 1L8.5 8.5l.94-2.06 2.06-.94-2.06-.94L8.5 2.5l-.94 2.06-2.06.94zm10 10l.94 2.06.94-2.06 2.06-.94-2.06-.94-.94-2.06-.94 2.06-2.06.94z\"/><path d=\"M17.41 7.96l-1.37-1.37c-.4-.4-.92-.59-1.43-.59-.52 0-1.04.2-1.43.59L10.3 9.45l-7.72 7.72c-.78.78-.78 2.05 0 2.83L4 21.41c.39.39.9.59 1.41.59.51 0 1.02-.2 1.41-.59l7.78-7.78 2.81-2.81c.8-.78.8-2.07 0-2.86zM5.41 20L4 18.59l7.72-7.72 1.47 1.35L5.41 20z\"/>\n",
              "  </svg>\n",
              "      </button>\n",
              "      \n",
              "  <style>\n",
              "    .colab-df-container {\n",
              "      display:flex;\n",
              "      flex-wrap:wrap;\n",
              "      gap: 12px;\n",
              "    }\n",
              "\n",
              "    .colab-df-convert {\n",
              "      background-color: #E8F0FE;\n",
              "      border: none;\n",
              "      border-radius: 50%;\n",
              "      cursor: pointer;\n",
              "      display: none;\n",
              "      fill: #1967D2;\n",
              "      height: 32px;\n",
              "      padding: 0 0 0 0;\n",
              "      width: 32px;\n",
              "    }\n",
              "\n",
              "    .colab-df-convert:hover {\n",
              "      background-color: #E2EBFA;\n",
              "      box-shadow: 0px 1px 2px rgba(60, 64, 67, 0.3), 0px 1px 3px 1px rgba(60, 64, 67, 0.15);\n",
              "      fill: #174EA6;\n",
              "    }\n",
              "\n",
              "    [theme=dark] .colab-df-convert {\n",
              "      background-color: #3B4455;\n",
              "      fill: #D2E3FC;\n",
              "    }\n",
              "\n",
              "    [theme=dark] .colab-df-convert:hover {\n",
              "      background-color: #434B5C;\n",
              "      box-shadow: 0px 1px 3px 1px rgba(0, 0, 0, 0.15);\n",
              "      filter: drop-shadow(0px 1px 2px rgba(0, 0, 0, 0.3));\n",
              "      fill: #FFFFFF;\n",
              "    }\n",
              "  </style>\n",
              "\n",
              "      <script>\n",
              "        const buttonEl =\n",
              "          document.querySelector('#df-40632899-6210-4057-83be-1d7fa9eb649f button.colab-df-convert');\n",
              "        buttonEl.style.display =\n",
              "          google.colab.kernel.accessAllowed ? 'block' : 'none';\n",
              "\n",
              "        async function convertToInteractive(key) {\n",
              "          const element = document.querySelector('#df-40632899-6210-4057-83be-1d7fa9eb649f');\n",
              "          const dataTable =\n",
              "            await google.colab.kernel.invokeFunction('convertToInteractive',\n",
              "                                                     [key], {});\n",
              "          if (!dataTable) return;\n",
              "\n",
              "          const docLinkHtml = 'Like what you see? Visit the ' +\n",
              "            '<a target=\"_blank\" href=https://colab.research.google.com/notebooks/data_table.ipynb>data table notebook</a>'\n",
              "            + ' to learn more about interactive tables.';\n",
              "          element.innerHTML = '';\n",
              "          dataTable['output_type'] = 'display_data';\n",
              "          await google.colab.output.renderOutput(dataTable, element);\n",
              "          const docLink = document.createElement('div');\n",
              "          docLink.innerHTML = docLinkHtml;\n",
              "          element.appendChild(docLink);\n",
              "        }\n",
              "      </script>\n",
              "    </div>\n",
              "  </div>\n",
              "  "
            ]
          },
          "metadata": {},
          "execution_count": 2
        }
      ]
    },
    {
      "cell_type": "code",
      "source": [
        "df.info()"
      ],
      "metadata": {
        "colab": {
          "base_uri": "https://localhost:8080/"
        },
        "id": "97XJ57eB16nK",
        "outputId": "1dd304eb-bf94-430a-8999-9a0dd0d2bef9"
      },
      "execution_count": null,
      "outputs": [
        {
          "output_type": "stream",
          "name": "stdout",
          "text": [
            "<class 'pandas.core.frame.DataFrame'>\n",
            "RangeIndex: 50 entries, 0 to 49\n",
            "Data columns (total 12 columns):\n",
            " #   Column              Non-Null Count  Dtype  \n",
            "---  ------              --------------  -----  \n",
            " 0   layer_height        50 non-null     float64\n",
            " 1   wall_thickness      50 non-null     int64  \n",
            " 2   infill_density      50 non-null     int64  \n",
            " 3   infill_pattern      50 non-null     object \n",
            " 4   nozzle_temperature  50 non-null     int64  \n",
            " 5   bed_temperature     50 non-null     int64  \n",
            " 6   print_speed         50 non-null     int64  \n",
            " 7   material            50 non-null     object \n",
            " 8   fan_speed           50 non-null     int64  \n",
            " 9   roughness           50 non-null     int64  \n",
            " 10  tension_strenght    50 non-null     int64  \n",
            " 11  elongation          50 non-null     float64\n",
            "dtypes: float64(2), int64(8), object(2)\n",
            "memory usage: 4.8+ KB\n"
          ]
        }
      ]
    },
    {
      "cell_type": "code",
      "source": [
        "df.shape"
      ],
      "metadata": {
        "colab": {
          "base_uri": "https://localhost:8080/"
        },
        "id": "VLd_WJAP2Zuz",
        "outputId": "c5c7885f-cea6-4b94-de1e-f372fbc9bf65"
      },
      "execution_count": null,
      "outputs": [
        {
          "output_type": "execute_result",
          "data": {
            "text/plain": [
              "(50, 12)"
            ]
          },
          "metadata": {},
          "execution_count": 4
        }
      ]
    },
    {
      "cell_type": "code",
      "source": [
        "df.describe(exclude=['object'])"
      ],
      "metadata": {
        "colab": {
          "base_uri": "https://localhost:8080/",
          "height": 364
        },
        "id": "YBpjxnTZ2ayZ",
        "outputId": "7cd496cd-7a01-4aec-a4e1-492804bf57e8"
      },
      "execution_count": null,
      "outputs": [
        {
          "output_type": "execute_result",
          "data": {
            "text/plain": [
              "       layer_height  wall_thickness  infill_density  nozzle_temperature  \\\n",
              "count     50.000000       50.000000        50.00000           50.000000   \n",
              "mean       0.106000        5.220000        53.40000          221.500000   \n",
              "std        0.064397        2.922747        25.36348           14.820353   \n",
              "min        0.020000        1.000000        10.00000          200.000000   \n",
              "25%        0.060000        3.000000        40.00000          210.000000   \n",
              "50%        0.100000        5.000000        50.00000          220.000000   \n",
              "75%        0.150000        7.000000        80.00000          230.000000   \n",
              "max        0.200000       10.000000        90.00000          250.000000   \n",
              "\n",
              "       bed_temperature  print_speed   fan_speed   roughness  tension_strenght  \\\n",
              "count        50.000000      50.0000   50.000000   50.000000         50.000000   \n",
              "mean         70.000000      64.0000   50.000000  170.580000         20.080000   \n",
              "std           7.142857      29.6923   35.714286   99.034129          8.925634   \n",
              "min          60.000000      40.0000    0.000000   21.000000          4.000000   \n",
              "25%          65.000000      40.0000   25.000000   92.000000         12.000000   \n",
              "50%          70.000000      60.0000   50.000000  165.500000         19.000000   \n",
              "75%          75.000000      60.0000   75.000000  239.250000         27.000000   \n",
              "max          80.000000     120.0000  100.000000  368.000000         37.000000   \n",
              "\n",
              "       elongation  \n",
              "count   50.000000  \n",
              "mean     1.672000  \n",
              "std      0.788188  \n",
              "min      0.400000  \n",
              "25%      1.100000  \n",
              "50%      1.550000  \n",
              "75%      2.175000  \n",
              "max      3.300000  "
            ],
            "text/html": [
              "\n",
              "  <div id=\"df-1e6a9ee8-de00-41df-9190-7395fa924963\">\n",
              "    <div class=\"colab-df-container\">\n",
              "      <div>\n",
              "<style scoped>\n",
              "    .dataframe tbody tr th:only-of-type {\n",
              "        vertical-align: middle;\n",
              "    }\n",
              "\n",
              "    .dataframe tbody tr th {\n",
              "        vertical-align: top;\n",
              "    }\n",
              "\n",
              "    .dataframe thead th {\n",
              "        text-align: right;\n",
              "    }\n",
              "</style>\n",
              "<table border=\"1\" class=\"dataframe\">\n",
              "  <thead>\n",
              "    <tr style=\"text-align: right;\">\n",
              "      <th></th>\n",
              "      <th>layer_height</th>\n",
              "      <th>wall_thickness</th>\n",
              "      <th>infill_density</th>\n",
              "      <th>nozzle_temperature</th>\n",
              "      <th>bed_temperature</th>\n",
              "      <th>print_speed</th>\n",
              "      <th>fan_speed</th>\n",
              "      <th>roughness</th>\n",
              "      <th>tension_strenght</th>\n",
              "      <th>elongation</th>\n",
              "    </tr>\n",
              "  </thead>\n",
              "  <tbody>\n",
              "    <tr>\n",
              "      <th>count</th>\n",
              "      <td>50.000000</td>\n",
              "      <td>50.000000</td>\n",
              "      <td>50.00000</td>\n",
              "      <td>50.000000</td>\n",
              "      <td>50.000000</td>\n",
              "      <td>50.0000</td>\n",
              "      <td>50.000000</td>\n",
              "      <td>50.000000</td>\n",
              "      <td>50.000000</td>\n",
              "      <td>50.000000</td>\n",
              "    </tr>\n",
              "    <tr>\n",
              "      <th>mean</th>\n",
              "      <td>0.106000</td>\n",
              "      <td>5.220000</td>\n",
              "      <td>53.40000</td>\n",
              "      <td>221.500000</td>\n",
              "      <td>70.000000</td>\n",
              "      <td>64.0000</td>\n",
              "      <td>50.000000</td>\n",
              "      <td>170.580000</td>\n",
              "      <td>20.080000</td>\n",
              "      <td>1.672000</td>\n",
              "    </tr>\n",
              "    <tr>\n",
              "      <th>std</th>\n",
              "      <td>0.064397</td>\n",
              "      <td>2.922747</td>\n",
              "      <td>25.36348</td>\n",
              "      <td>14.820353</td>\n",
              "      <td>7.142857</td>\n",
              "      <td>29.6923</td>\n",
              "      <td>35.714286</td>\n",
              "      <td>99.034129</td>\n",
              "      <td>8.925634</td>\n",
              "      <td>0.788188</td>\n",
              "    </tr>\n",
              "    <tr>\n",
              "      <th>min</th>\n",
              "      <td>0.020000</td>\n",
              "      <td>1.000000</td>\n",
              "      <td>10.00000</td>\n",
              "      <td>200.000000</td>\n",
              "      <td>60.000000</td>\n",
              "      <td>40.0000</td>\n",
              "      <td>0.000000</td>\n",
              "      <td>21.000000</td>\n",
              "      <td>4.000000</td>\n",
              "      <td>0.400000</td>\n",
              "    </tr>\n",
              "    <tr>\n",
              "      <th>25%</th>\n",
              "      <td>0.060000</td>\n",
              "      <td>3.000000</td>\n",
              "      <td>40.00000</td>\n",
              "      <td>210.000000</td>\n",
              "      <td>65.000000</td>\n",
              "      <td>40.0000</td>\n",
              "      <td>25.000000</td>\n",
              "      <td>92.000000</td>\n",
              "      <td>12.000000</td>\n",
              "      <td>1.100000</td>\n",
              "    </tr>\n",
              "    <tr>\n",
              "      <th>50%</th>\n",
              "      <td>0.100000</td>\n",
              "      <td>5.000000</td>\n",
              "      <td>50.00000</td>\n",
              "      <td>220.000000</td>\n",
              "      <td>70.000000</td>\n",
              "      <td>60.0000</td>\n",
              "      <td>50.000000</td>\n",
              "      <td>165.500000</td>\n",
              "      <td>19.000000</td>\n",
              "      <td>1.550000</td>\n",
              "    </tr>\n",
              "    <tr>\n",
              "      <th>75%</th>\n",
              "      <td>0.150000</td>\n",
              "      <td>7.000000</td>\n",
              "      <td>80.00000</td>\n",
              "      <td>230.000000</td>\n",
              "      <td>75.000000</td>\n",
              "      <td>60.0000</td>\n",
              "      <td>75.000000</td>\n",
              "      <td>239.250000</td>\n",
              "      <td>27.000000</td>\n",
              "      <td>2.175000</td>\n",
              "    </tr>\n",
              "    <tr>\n",
              "      <th>max</th>\n",
              "      <td>0.200000</td>\n",
              "      <td>10.000000</td>\n",
              "      <td>90.00000</td>\n",
              "      <td>250.000000</td>\n",
              "      <td>80.000000</td>\n",
              "      <td>120.0000</td>\n",
              "      <td>100.000000</td>\n",
              "      <td>368.000000</td>\n",
              "      <td>37.000000</td>\n",
              "      <td>3.300000</td>\n",
              "    </tr>\n",
              "  </tbody>\n",
              "</table>\n",
              "</div>\n",
              "      <button class=\"colab-df-convert\" onclick=\"convertToInteractive('df-1e6a9ee8-de00-41df-9190-7395fa924963')\"\n",
              "              title=\"Convert this dataframe to an interactive table.\"\n",
              "              style=\"display:none;\">\n",
              "        \n",
              "  <svg xmlns=\"http://www.w3.org/2000/svg\" height=\"24px\"viewBox=\"0 0 24 24\"\n",
              "       width=\"24px\">\n",
              "    <path d=\"M0 0h24v24H0V0z\" fill=\"none\"/>\n",
              "    <path d=\"M18.56 5.44l.94 2.06.94-2.06 2.06-.94-2.06-.94-.94-2.06-.94 2.06-2.06.94zm-11 1L8.5 8.5l.94-2.06 2.06-.94-2.06-.94L8.5 2.5l-.94 2.06-2.06.94zm10 10l.94 2.06.94-2.06 2.06-.94-2.06-.94-.94-2.06-.94 2.06-2.06.94z\"/><path d=\"M17.41 7.96l-1.37-1.37c-.4-.4-.92-.59-1.43-.59-.52 0-1.04.2-1.43.59L10.3 9.45l-7.72 7.72c-.78.78-.78 2.05 0 2.83L4 21.41c.39.39.9.59 1.41.59.51 0 1.02-.2 1.41-.59l7.78-7.78 2.81-2.81c.8-.78.8-2.07 0-2.86zM5.41 20L4 18.59l7.72-7.72 1.47 1.35L5.41 20z\"/>\n",
              "  </svg>\n",
              "      </button>\n",
              "      \n",
              "  <style>\n",
              "    .colab-df-container {\n",
              "      display:flex;\n",
              "      flex-wrap:wrap;\n",
              "      gap: 12px;\n",
              "    }\n",
              "\n",
              "    .colab-df-convert {\n",
              "      background-color: #E8F0FE;\n",
              "      border: none;\n",
              "      border-radius: 50%;\n",
              "      cursor: pointer;\n",
              "      display: none;\n",
              "      fill: #1967D2;\n",
              "      height: 32px;\n",
              "      padding: 0 0 0 0;\n",
              "      width: 32px;\n",
              "    }\n",
              "\n",
              "    .colab-df-convert:hover {\n",
              "      background-color: #E2EBFA;\n",
              "      box-shadow: 0px 1px 2px rgba(60, 64, 67, 0.3), 0px 1px 3px 1px rgba(60, 64, 67, 0.15);\n",
              "      fill: #174EA6;\n",
              "    }\n",
              "\n",
              "    [theme=dark] .colab-df-convert {\n",
              "      background-color: #3B4455;\n",
              "      fill: #D2E3FC;\n",
              "    }\n",
              "\n",
              "    [theme=dark] .colab-df-convert:hover {\n",
              "      background-color: #434B5C;\n",
              "      box-shadow: 0px 1px 3px 1px rgba(0, 0, 0, 0.15);\n",
              "      filter: drop-shadow(0px 1px 2px rgba(0, 0, 0, 0.3));\n",
              "      fill: #FFFFFF;\n",
              "    }\n",
              "  </style>\n",
              "\n",
              "      <script>\n",
              "        const buttonEl =\n",
              "          document.querySelector('#df-1e6a9ee8-de00-41df-9190-7395fa924963 button.colab-df-convert');\n",
              "        buttonEl.style.display =\n",
              "          google.colab.kernel.accessAllowed ? 'block' : 'none';\n",
              "\n",
              "        async function convertToInteractive(key) {\n",
              "          const element = document.querySelector('#df-1e6a9ee8-de00-41df-9190-7395fa924963');\n",
              "          const dataTable =\n",
              "            await google.colab.kernel.invokeFunction('convertToInteractive',\n",
              "                                                     [key], {});\n",
              "          if (!dataTable) return;\n",
              "\n",
              "          const docLinkHtml = 'Like what you see? Visit the ' +\n",
              "            '<a target=\"_blank\" href=https://colab.research.google.com/notebooks/data_table.ipynb>data table notebook</a>'\n",
              "            + ' to learn more about interactive tables.';\n",
              "          element.innerHTML = '';\n",
              "          dataTable['output_type'] = 'display_data';\n",
              "          await google.colab.output.renderOutput(dataTable, element);\n",
              "          const docLink = document.createElement('div');\n",
              "          docLink.innerHTML = docLinkHtml;\n",
              "          element.appendChild(docLink);\n",
              "        }\n",
              "      </script>\n",
              "    </div>\n",
              "  </div>\n",
              "  "
            ]
          },
          "metadata": {},
          "execution_count": 5
        }
      ]
    },
    {
      "cell_type": "code",
      "source": [
        "df['infill_pattern'].value_counts()"
      ],
      "metadata": {
        "colab": {
          "base_uri": "https://localhost:8080/"
        },
        "id": "c2LWCk8f2cw9",
        "outputId": "47204b9f-7052-4247-d0f8-ea22301b4628"
      },
      "execution_count": null,
      "outputs": [
        {
          "output_type": "execute_result",
          "data": {
            "text/plain": [
              "grid         25\n",
              "honeycomb    25\n",
              "Name: infill_pattern, dtype: int64"
            ]
          },
          "metadata": {},
          "execution_count": 6
        }
      ]
    },
    {
      "cell_type": "code",
      "source": [
        "df['material'].value_counts()"
      ],
      "metadata": {
        "colab": {
          "base_uri": "https://localhost:8080/"
        },
        "id": "zr9xZ4e-3K0l",
        "outputId": "72924985-9cb9-4d03-fe48-b0c4dffd9e59"
      },
      "execution_count": null,
      "outputs": [
        {
          "output_type": "execute_result",
          "data": {
            "text/plain": [
              "abs    25\n",
              "pla    25\n",
              "Name: material, dtype: int64"
            ]
          },
          "metadata": {},
          "execution_count": 7
        }
      ]
    },
    {
      "cell_type": "code",
      "source": [
        "df.hist(figsize=(15,15))\n",
        "plt.show()"
      ],
      "metadata": {
        "colab": {
          "base_uri": "https://localhost:8080/",
          "height": 879
        },
        "id": "YLTzNLRe3QHI",
        "outputId": "d1e45f71-11bf-4b83-f830-f741799d6f7e"
      },
      "execution_count": null,
      "outputs": [
        {
          "output_type": "display_data",
          "data": {
            "text/plain": [
              "<Figure size 1080x1080 with 12 Axes>"
            ],
            "image/png": "[encoded data removed]"
          },
          "metadata": {
            "needs_background": "light"
          }
        }
      ]
    },
    {
      "cell_type": "code",
      "source": [
        "df['print_speed'].value_counts()"
      ],
      "metadata": {
        "colab": {
          "base_uri": "https://localhost:8080/"
        },
        "id": "G5wPee553iYC",
        "outputId": "1ffdf013-de57-415e-94e6-c79907974536"
      },
      "execution_count": null,
      "outputs": [
        {
          "output_type": "execute_result",
          "data": {
            "text/plain": [
              "40     20\n",
              "60     20\n",
              "120    10\n",
              "Name: print_speed, dtype: int64"
            ]
          },
          "metadata": {},
          "execution_count": 9
        }
      ]
    },
    {
      "cell_type": "code",
      "source": [
        "from sklearn.model_selection import StratifiedShuffleSplit\n",
        "from sklearn.preprocessing import OneHotEncoder, StandardScaler"
      ],
      "metadata": {
        "id": "n4Cxcjfr38PW"
      },
      "execution_count": null,
      "outputs": []
    },
    {
      "cell_type": "markdown",
      "source": [
        "Since the dataset is smaller creating train and test sets wouldnt' be useful for model bulding "
      ],
      "metadata": {
        "id": "5iqdJEZT9dCT"
      }
    },
    {
      "cell_type": "code",
      "source": [
        "split = StratifiedShuffleSplit(n_splits=1, test_size=0.2, random_state = 0)\n",
        "for train_index, test_index in split.split(df, df['material']):\n",
        "  strat_train_set = df.loc[train_index]\n",
        "  strat_test_set =  df.loc[test_index]"
      ],
      "metadata": {
        "id": "l4a6q3EH44yR"
      },
      "execution_count": null,
      "outputs": []
    },
    {
      "cell_type": "code",
      "source": [
        "df['material'].value_counts()/ len(df)"
      ],
      "metadata": {
        "colab": {
          "base_uri": "https://localhost:8080/"
        },
        "id": "u1xhIQaD5tIe",
        "outputId": "71ea8497-d6b3-4fb7-8a58-ceee063d23a4"
      },
      "execution_count": null,
      "outputs": [
        {
          "output_type": "execute_result",
          "data": {
            "text/plain": [
              "abs    0.5\n",
              "pla    0.5\n",
              "Name: material, dtype: float64"
            ]
          },
          "metadata": {},
          "execution_count": 20
        }
      ]
    },
    {
      "cell_type": "code",
      "source": [
        "strat_train_set['material'].value_counts()/ len(strat_train_set)"
      ],
      "metadata": {
        "colab": {
          "base_uri": "https://localhost:8080/"
        },
        "id": "a1dYCBym57H-",
        "outputId": "bb72c6cc-68f6-446b-b30e-3286cd7cf4ef"
      },
      "execution_count": null,
      "outputs": [
        {
          "output_type": "execute_result",
          "data": {
            "text/plain": [
              "pla    0.5\n",
              "abs    0.5\n",
              "Name: material, dtype: float64"
            ]
          },
          "metadata": {},
          "execution_count": 21
        }
      ]
    },
    {
      "cell_type": "code",
      "source": [
        "strat_test_set['material'].value_counts()/ len(strat_test_set)"
      ],
      "metadata": {
        "colab": {
          "base_uri": "https://localhost:8080/"
        },
        "id": "nCQ1byb96Iht",
        "outputId": "ccb110a3-f952-46d0-e4ed-fc30bf9c4728"
      },
      "execution_count": null,
      "outputs": [
        {
          "output_type": "execute_result",
          "data": {
            "text/plain": [
              "pla    0.5\n",
              "abs    0.5\n",
              "Name: material, dtype: float64"
            ]
          },
          "metadata": {},
          "execution_count": 25
        }
      ]
    },
    {
      "cell_type": "code",
      "source": [
        "strat_train_set.shape"
      ],
      "metadata": {
        "colab": {
          "base_uri": "https://localhost:8080/"
        },
        "id": "nkdVQPrO6Mo4",
        "outputId": "523f63de-8459-4841-ac8c-0418f7b0b0ab"
      },
      "execution_count": null,
      "outputs": [
        {
          "output_type": "execute_result",
          "data": {
            "text/plain": [
              "(40, 12)"
            ]
          },
          "metadata": {},
          "execution_count": 26
        }
      ]
    },
    {
      "cell_type": "code",
      "source": [
        "strat_test_set.shape"
      ],
      "metadata": {
        "colab": {
          "base_uri": "https://localhost:8080/"
        },
        "id": "0VJfo7XJ8VDh",
        "outputId": "2475f051-39a3-49d0-dfdb-9a97ce5ed8b2"
      },
      "execution_count": null,
      "outputs": [
        {
          "output_type": "execute_result",
          "data": {
            "text/plain": [
              "(10, 12)"
            ]
          },
          "metadata": {},
          "execution_count": 27
        }
      ]
    },
    {
      "cell_type": "markdown",
      "source": [
        "**Stratified wrt material**"
      ],
      "metadata": {
        "id": "SqrwILgbdnVH"
      }
    },
    {
      "cell_type": "code",
      "source": [
        "dataset = strat_train_set.copy()"
      ],
      "metadata": {
        "id": "mtwpjcgY8YqY"
      },
      "execution_count": null,
      "outputs": []
    },
    {
      "cell_type": "code",
      "source": [
        "dataset.columns"
      ],
      "metadata": {
        "colab": {
          "base_uri": "https://localhost:8080/"
        },
        "id": "StjFzinOXaV4",
        "outputId": "0fa1ab1b-b5b9-405d-8d93-3cf9596c0842"
      },
      "execution_count": null,
      "outputs": [
        {
          "output_type": "execute_result",
          "data": {
            "text/plain": [
              "Index(['layer_height', 'wall_thickness', 'infill_density', 'infill_pattern',\n",
              "       'nozzle_temperature', 'bed_temperature', 'print_speed', 'material',\n",
              "       'fan_speed', 'roughness', 'tension_strenght', 'elongation'],\n",
              "      dtype='object')"
            ]
          },
          "metadata": {},
          "execution_count": 29
        }
      ]
    },
    {
      "cell_type": "markdown",
      "source": [
        "**Data Visualisation**"
      ],
      "metadata": {
        "id": "qr_zypwndz3P"
      }
    },
    {
      "cell_type": "code",
      "source": [
        "dataset.plot(kind = 'scatter', x = 'elongation', y = 'tension_strenght' )"
      ],
      "metadata": {
        "colab": {
          "base_uri": "https://localhost:8080/",
          "height": 296
        },
        "id": "IBL4rQqLXf-z",
        "outputId": "12e31bf1-93f1-44d6-866b-ddfa8a17f8e4"
      },
      "execution_count": null,
      "outputs": [
        {
          "output_type": "execute_result",
          "data": {
            "text/plain": [
              "<matplotlib.axes._subplots.AxesSubplot at 0x7f0ecd31e0d0>"
            ]
          },
          "metadata": {},
          "execution_count": 30
        },
        {
          "output_type": "display_data",
          "data": {
            "text/plain": [
              "<Figure size 432x288 with 1 Axes>"
            ],
            "image/png": "[encoded data removed]"
          },
          "metadata": {
            "needs_background": "light"
          }
        }
      ]
    },
    {
      "cell_type": "code",
      "source": [
        "corr_matrix = dataset.corr()"
      ],
      "metadata": {
        "id": "mybxYp98YFEP"
      },
      "execution_count": null,
      "outputs": []
    },
    {
      "cell_type": "code",
      "source": [
        "corr_matrix['tension_strenght'].sort_values(ascending = False)"
      ],
      "metadata": {
        "colab": {
          "base_uri": "https://localhost:8080/"
        },
        "id": "u8RQ-bJQYNXT",
        "outputId": "91298752-99f3-42cf-9fb3-8d78532a1597"
      },
      "execution_count": null,
      "outputs": [
        {
          "output_type": "execute_result",
          "data": {
            "text/plain": [
              "tension_strenght      1.000000\n",
              "elongation            0.813400\n",
              "layer_height          0.353472\n",
              "wall_thickness        0.324570\n",
              "infill_density        0.305205\n",
              "roughness             0.024541\n",
              "bed_temperature      -0.219494\n",
              "fan_speed            -0.219494\n",
              "print_speed          -0.245586\n",
              "nozzle_temperature   -0.398638\n",
              "Name: tension_strenght, dtype: float64"
            ]
          },
          "metadata": {},
          "execution_count": 32
        }
      ]
    },
    {
      "cell_type": "code",
      "source": [
        "dataset['temp_per_height'] = dataset['bed_temperature'] / dataset['layer_height']\n",
        "dataset['time_per_layer'] = dataset['print_speed'] / dataset['layer_height']"
      ],
      "metadata": {
        "id": "TK8UQQs6-z8d"
      },
      "execution_count": null,
      "outputs": []
    },
    {
      "cell_type": "code",
      "source": [
        "# dataset.columns"
      ],
      "metadata": {
        "id": "NqbGalwEB0K5"
      },
      "execution_count": null,
      "outputs": []
    },
    {
      "cell_type": "code",
      "source": [
        "corr_matrix = dataset.corr()\n",
        "corr_matrix['tension_strenght'].sort_values(ascending = False)"
      ],
      "metadata": {
        "colab": {
          "base_uri": "https://localhost:8080/"
        },
        "id": "mmEGDPnwBe9j",
        "outputId": "9d23b3fb-e08a-4fbe-b43d-72b1432de891"
      },
      "execution_count": null,
      "outputs": [
        {
          "output_type": "execute_result",
          "data": {
            "text/plain": [
              "tension_strenght      1.000000\n",
              "elongation            0.813400\n",
              "layer_height          0.353472\n",
              "wall_thickness        0.324570\n",
              "infill_density        0.305205\n",
              "roughness             0.024541\n",
              "bed_temperature      -0.219494\n",
              "fan_speed            -0.219494\n",
              "print_speed          -0.245586\n",
              "temp_per_height      -0.252221\n",
              "time_per_layer       -0.364788\n",
              "nozzle_temperature   -0.398638\n",
              "Name: tension_strenght, dtype: float64"
            ]
          },
          "metadata": {},
          "execution_count": 38
        }
      ]
    },
    {
      "cell_type": "code",
      "source": [
        "from pandas.plotting import scatter_matrix"
      ],
      "metadata": {
        "id": "DoefLh6eYNEP"
      },
      "execution_count": null,
      "outputs": []
    },
    {
      "cell_type": "code",
      "source": [
        "attributes = ['tension_strenght', 'elongation','layer_height', \n",
        "              'wall_thickness', 'infill_density', \n",
        "              'nozzle_temperature', 'time_per_layer']"
      ],
      "metadata": {
        "id": "QenMjrAGHf_X"
      },
      "execution_count": null,
      "outputs": []
    },
    {
      "cell_type": "code",
      "source": [
        "scatter_matrix(dataset[attributes], figsize=(12,8));"
      ],
      "metadata": {
        "colab": {
          "base_uri": "https://localhost:8080/",
          "height": 519
        },
        "id": "lejyyNi2YM4h",
        "outputId": "7d7dbefc-1236-4463-b143-abd3efe9106e"
      },
      "execution_count": null,
      "outputs": [
        {
          "output_type": "display_data",
          "data": {
            "text/plain": [
              "<Figure size 864x576 with 49 Axes>"
            ],
            "image/png": "[encoded data removed]"
          },
          "metadata": {
            "needs_background": "light"
          }
        }
      ]
    },
    {
      "cell_type": "code",
      "source": [
        "df.head()"
      ],
      "metadata": {
        "colab": {
          "base_uri": "https://localhost:8080/",
          "height": 270
        },
        "id": "JwuS498cIRyI",
        "outputId": "7c2c6232-f55f-4543-dafa-b525e76743b6"
      },
      "execution_count": null,
      "outputs": [
        {
          "output_type": "execute_result",
          "data": {
            "text/plain": [
              "   layer_height  wall_thickness  infill_density infill_pattern  \\\n",
              "0          0.02               8              90           grid   \n",
              "1          0.02               7              90      honeycomb   \n",
              "2          0.02               1              80           grid   \n",
              "3          0.02               4              70      honeycomb   \n",
              "4          0.02               6              90           grid   \n",
              "\n",
              "   nozzle_temperature  bed_temperature  print_speed material  fan_speed  \\\n",
              "0                 220               60           40      abs          0   \n",
              "1                 225               65           40      abs         25   \n",
              "2                 230               70           40      abs         50   \n",
              "3                 240               75           40      abs         75   \n",
              "4                 250               80           40      abs        100   \n",
              "\n",
              "   roughness  tension_strenght  elongation  \n",
              "0         25                18         1.2  \n",
              "1         32                16         1.4  \n",
              "2         40                 8         0.8  \n",
              "3         68                10         0.5  \n",
              "4         92                 5         0.7  "
            ],
            "text/html": [
              "\n",
              "  <div id=\"df-8e1865cd-6abf-4f19-82bf-1aac04effd44\">\n",
              "    <div class=\"colab-df-container\">\n",
              "      <div>\n",
              "<style scoped>\n",
              "    .dataframe tbody tr th:only-of-type {\n",
              "        vertical-align: middle;\n",
              "    }\n",
              "\n",
              "    .dataframe tbody tr th {\n",
              "        vertical-align: top;\n",
              "    }\n",
              "\n",
              "    .dataframe thead th {\n",
              "        text-align: right;\n",
              "    }\n",
              "</style>\n",
              "<table border=\"1\" class=\"dataframe\">\n",
              "  <thead>\n",
              "    <tr style=\"text-align: right;\">\n",
              "      <th></th>\n",
              "      <th>layer_height</th>\n",
              "      <th>wall_thickness</th>\n",
              "      <th>infill_density</th>\n",
              "      <th>infill_pattern</th>\n",
              "      <th>nozzle_temperature</th>\n",
              "      <th>bed_temperature</th>\n",
              "      <th>print_speed</th>\n",
              "      <th>material</th>\n",
              "      <th>fan_speed</th>\n",
              "      <th>roughness</th>\n",
              "      <th>tension_strenght</th>\n",
              "      <th>elongation</th>\n",
              "    </tr>\n",
              "  </thead>\n",
              "  <tbody>\n",
              "    <tr>\n",
              "      <th>0</th>\n",
              "      <td>0.02</td>\n",
              "      <td>8</td>\n",
              "      <td>90</td>\n",
              "      <td>grid</td>\n",
              "      <td>220</td>\n",
              "      <td>60</td>\n",
              "      <td>40</td>\n",
              "      <td>abs</td>\n",
              "      <td>0</td>\n",
              "      <td>25</td>\n",
              "      <td>18</td>\n",
              "      <td>1.2</td>\n",
              "    </tr>\n",
              "    <tr>\n",
              "      <th>1</th>\n",
              "      <td>0.02</td>\n",
              "      <td>7</td>\n",
              "      <td>90</td>\n",
              "      <td>honeycomb</td>\n",
              "      <td>225</td>\n",
              "      <td>65</td>\n",
              "      <td>40</td>\n",
              "      <td>abs</td>\n",
              "      <td>25</td>\n",
              "      <td>32</td>\n",
              "      <td>16</td>\n",
              "      <td>1.4</td>\n",
              "    </tr>\n",
              "    <tr>\n",
              "      <th>2</th>\n",
              "      <td>0.02</td>\n",
              "      <td>1</td>\n",
              "      <td>80</td>\n",
              "      <td>grid</td>\n",
              "      <td>230</td>\n",
              "      <td>70</td>\n",
              "      <td>40</td>\n",
              "      <td>abs</td>\n",
              "      <td>50</td>\n",
              "      <td>40</td>\n",
              "      <td>8</td>\n",
              "      <td>0.8</td>\n",
              "    </tr>\n",
              "    <tr>\n",
              "      <th>3</th>\n",
              "      <td>0.02</td>\n",
              "      <td>4</td>\n",
              "      <td>70</td>\n",
              "      <td>honeycomb</td>\n",
              "      <td>240</td>\n",
              "      <td>75</td>\n",
              "      <td>40</td>\n",
              "      <td>abs</td>\n",
              "      <td>75</td>\n",
              "      <td>68</td>\n",
              "      <td>10</td>\n",
              "      <td>0.5</td>\n",
              "    </tr>\n",
              "    <tr>\n",
              "      <th>4</th>\n",
              "      <td>0.02</td>\n",
              "      <td>6</td>\n",
              "      <td>90</td>\n",
              "      <td>grid</td>\n",
              "      <td>250</td>\n",
              "      <td>80</td>\n",
              "      <td>40</td>\n",
              "      <td>abs</td>\n",
              "      <td>100</td>\n",
              "      <td>92</td>\n",
              "      <td>5</td>\n",
              "      <td>0.7</td>\n",
              "    </tr>\n",
              "  </tbody>\n",
              "</table>\n",
              "</div>\n",
              "      <button class=\"colab-df-convert\" onclick=\"convertToInteractive('df-8e1865cd-6abf-4f19-82bf-1aac04effd44')\"\n",
              "              title=\"Convert this dataframe to an interactive table.\"\n",
              "              style=\"display:none;\">\n",
              "        \n",
              "  <svg xmlns=\"http://www.w3.org/2000/svg\" height=\"24px\"viewBox=\"0 0 24 24\"\n",
              "       width=\"24px\">\n",
              "    <path d=\"M0 0h24v24H0V0z\" fill=\"none\"/>\n",
              "    <path d=\"M18.56 5.44l.94 2.06.94-2.06 2.06-.94-2.06-.94-.94-2.06-.94 2.06-2.06.94zm-11 1L8.5 8.5l.94-2.06 2.06-.94-2.06-.94L8.5 2.5l-.94 2.06-2.06.94zm10 10l.94 2.06.94-2.06 2.06-.94-2.06-.94-.94-2.06-.94 2.06-2.06.94z\"/><path d=\"M17.41 7.96l-1.37-1.37c-.4-.4-.92-.59-1.43-.59-.52 0-1.04.2-1.43.59L10.3 9.45l-7.72 7.72c-.78.78-.78 2.05 0 2.83L4 21.41c.39.39.9.59 1.41.59.51 0 1.02-.2 1.41-.59l7.78-7.78 2.81-2.81c.8-.78.8-2.07 0-2.86zM5.41 20L4 18.59l7.72-7.72 1.47 1.35L5.41 20z\"/>\n",
              "  </svg>\n",
              "      </button>\n",
              "      \n",
              "  <style>\n",
              "    .colab-df-container {\n",
              "      display:flex;\n",
              "      flex-wrap:wrap;\n",
              "      gap: 12px;\n",
              "    }\n",
              "\n",
              "    .colab-df-convert {\n",
              "      background-color: #E8F0FE;\n",
              "      border: none;\n",
              "      border-radius: 50%;\n",
              "      cursor: pointer;\n",
              "      display: none;\n",
              "      fill: #1967D2;\n",
              "      height: 32px;\n",
              "      padding: 0 0 0 0;\n",
              "      width: 32px;\n",
              "    }\n",
              "\n",
              "    .colab-df-convert:hover {\n",
              "      background-color: #E2EBFA;\n",
              "      box-shadow: 0px 1px 2px rgba(60, 64, 67, 0.3), 0px 1px 3px 1px rgba(60, 64, 67, 0.15);\n",
              "      fill: #174EA6;\n",
              "    }\n",
              "\n",
              "    [theme=dark] .colab-df-convert {\n",
              "      background-color: #3B4455;\n",
              "      fill: #D2E3FC;\n",
              "    }\n",
              "\n",
              "    [theme=dark] .colab-df-convert:hover {\n",
              "      background-color: #434B5C;\n",
              "      box-shadow: 0px 1px 3px 1px rgba(0, 0, 0, 0.15);\n",
              "      filter: drop-shadow(0px 1px 2px rgba(0, 0, 0, 0.3));\n",
              "      fill: #FFFFFF;\n",
              "    }\n",
              "  </style>\n",
              "\n",
              "      <script>\n",
              "        const buttonEl =\n",
              "          document.querySelector('#df-8e1865cd-6abf-4f19-82bf-1aac04effd44 button.colab-df-convert');\n",
              "        buttonEl.style.display =\n",
              "          google.colab.kernel.accessAllowed ? 'block' : 'none';\n",
              "\n",
              "        async function convertToInteractive(key) {\n",
              "          const element = document.querySelector('#df-8e1865cd-6abf-4f19-82bf-1aac04effd44');\n",
              "          const dataTable =\n",
              "            await google.colab.kernel.invokeFunction('convertToInteractive',\n",
              "                                                     [key], {});\n",
              "          if (!dataTable) return;\n",
              "\n",
              "          const docLinkHtml = 'Like what you see? Visit the ' +\n",
              "            '<a target=\"_blank\" href=https://colab.research.google.com/notebooks/data_table.ipynb>data table notebook</a>'\n",
              "            + ' to learn more about interactive tables.';\n",
              "          element.innerHTML = '';\n",
              "          dataTable['output_type'] = 'display_data';\n",
              "          await google.colab.output.renderOutput(dataTable, element);\n",
              "          const docLink = document.createElement('div');\n",
              "          docLink.innerHTML = docLinkHtml;\n",
              "          element.appendChild(docLink);\n",
              "        }\n",
              "      </script>\n",
              "    </div>\n",
              "  </div>\n",
              "  "
            ]
          },
          "metadata": {},
          "execution_count": 41
        }
      ]
    },
    {
      "cell_type": "markdown",
      "source": [
        "**Data Preparation**"
      ],
      "metadata": {
        "id": "1CRlpQHsd-6P"
      }
    },
    {
      "cell_type": "code",
      "source": [
        "dataset = df.copy()"
      ],
      "metadata": {
        "id": "v6JhtMktIY3-"
      },
      "execution_count": null,
      "outputs": []
    },
    {
      "cell_type": "code",
      "source": [
        "X = dataset.drop(['roughness','tension_strenght','elongation'], axis = 1)\n",
        "y = dataset['tension_strenght']"
      ],
      "metadata": {
        "id": "WG4Za6t3IcE_"
      },
      "execution_count": null,
      "outputs": []
    },
    {
      "cell_type": "code",
      "source": [
        "X.head()"
      ],
      "metadata": {
        "colab": {
          "base_uri": "https://localhost:8080/",
          "height": 206
        },
        "id": "mf9EDd08JBsw",
        "outputId": "945aa3c5-2d30-45e1-fce2-1b5b0f026f4c"
      },
      "execution_count": null,
      "outputs": [
        {
          "output_type": "execute_result",
          "data": {
            "text/plain": [
              "   layer_height  wall_thickness  infill_density infill_pattern  \\\n",
              "0          0.02               8              90           grid   \n",
              "1          0.02               7              90      honeycomb   \n",
              "2          0.02               1              80           grid   \n",
              "3          0.02               4              70      honeycomb   \n",
              "4          0.02               6              90           grid   \n",
              "\n",
              "   nozzle_temperature  bed_temperature  print_speed material  fan_speed  \n",
              "0                 220               60           40      abs          0  \n",
              "1                 225               65           40      abs         25  \n",
              "2                 230               70           40      abs         50  \n",
              "3                 240               75           40      abs         75  \n",
              "4                 250               80           40      abs        100  "
            ],
            "text/html": [
              "\n",
              "  <div id=\"df-1fa1b4da-f4a4-480f-8484-920a44d4d87c\">\n",
              "    <div class=\"colab-df-container\">\n",
              "      <div>\n",
              "<style scoped>\n",
              "    .dataframe tbody tr th:only-of-type {\n",
              "        vertical-align: middle;\n",
              "    }\n",
              "\n",
              "    .dataframe tbody tr th {\n",
              "        vertical-align: top;\n",
              "    }\n",
              "\n",
              "    .dataframe thead th {\n",
              "        text-align: right;\n",
              "    }\n",
              "</style>\n",
              "<table border=\"1\" class=\"dataframe\">\n",
              "  <thead>\n",
              "    <tr style=\"text-align: right;\">\n",
              "      <th></th>\n",
              "      <th>layer_height</th>\n",
              "      <th>wall_thickness</th>\n",
              "      <th>infill_density</th>\n",
              "      <th>infill_pattern</th>\n",
              "      <th>nozzle_temperature</th>\n",
              "      <th>bed_temperature</th>\n",
              "      <th>print_speed</th>\n",
              "      <th>material</th>\n",
              "      <th>fan_speed</th>\n",
              "    </tr>\n",
              "  </thead>\n",
              "  <tbody>\n",
              "    <tr>\n",
              "      <th>0</th>\n",
              "      <td>0.02</td>\n",
              "      <td>8</td>\n",
              "      <td>90</td>\n",
              "      <td>grid</td>\n",
              "      <td>220</td>\n",
              "      <td>60</td>\n",
              "      <td>40</td>\n",
              "      <td>abs</td>\n",
              "      <td>0</td>\n",
              "    </tr>\n",
              "    <tr>\n",
              "      <th>1</th>\n",
              "      <td>0.02</td>\n",
              "      <td>7</td>\n",
              "      <td>90</td>\n",
              "      <td>honeycomb</td>\n",
              "      <td>225</td>\n",
              "      <td>65</td>\n",
              "      <td>40</td>\n",
              "      <td>abs</td>\n",
              "      <td>25</td>\n",
              "    </tr>\n",
              "    <tr>\n",
              "      <th>2</th>\n",
              "      <td>0.02</td>\n",
              "      <td>1</td>\n",
              "      <td>80</td>\n",
              "      <td>grid</td>\n",
              "      <td>230</td>\n",
              "      <td>70</td>\n",
              "      <td>40</td>\n",
              "      <td>abs</td>\n",
              "      <td>50</td>\n",
              "    </tr>\n",
              "    <tr>\n",
              "      <th>3</th>\n",
              "      <td>0.02</td>\n",
              "      <td>4</td>\n",
              "      <td>70</td>\n",
              "      <td>honeycomb</td>\n",
              "      <td>240</td>\n",
              "      <td>75</td>\n",
              "      <td>40</td>\n",
              "      <td>abs</td>\n",
              "      <td>75</td>\n",
              "    </tr>\n",
              "    <tr>\n",
              "      <th>4</th>\n",
              "      <td>0.02</td>\n",
              "      <td>6</td>\n",
              "      <td>90</td>\n",
              "      <td>grid</td>\n",
              "      <td>250</td>\n",
              "      <td>80</td>\n",
              "      <td>40</td>\n",
              "      <td>abs</td>\n",
              "      <td>100</td>\n",
              "    </tr>\n",
              "  </tbody>\n",
              "</table>\n",
              "</div>\n",
              "      <button class=\"colab-df-convert\" onclick=\"convertToInteractive('df-1fa1b4da-f4a4-480f-8484-920a44d4d87c')\"\n",
              "              title=\"Convert this dataframe to an interactive table.\"\n",
              "              style=\"display:none;\">\n",
              "        \n",
              "  <svg xmlns=\"http://www.w3.org/2000/svg\" height=\"24px\"viewBox=\"0 0 24 24\"\n",
              "       width=\"24px\">\n",
              "    <path d=\"M0 0h24v24H0V0z\" fill=\"none\"/>\n",
              "    <path d=\"M18.56 5.44l.94 2.06.94-2.06 2.06-.94-2.06-.94-.94-2.06-.94 2.06-2.06.94zm-11 1L8.5 8.5l.94-2.06 2.06-.94-2.06-.94L8.5 2.5l-.94 2.06-2.06.94zm10 10l.94 2.06.94-2.06 2.06-.94-2.06-.94-.94-2.06-.94 2.06-2.06.94z\"/><path d=\"M17.41 7.96l-1.37-1.37c-.4-.4-.92-.59-1.43-.59-.52 0-1.04.2-1.43.59L10.3 9.45l-7.72 7.72c-.78.78-.78 2.05 0 2.83L4 21.41c.39.39.9.59 1.41.59.51 0 1.02-.2 1.41-.59l7.78-7.78 2.81-2.81c.8-.78.8-2.07 0-2.86zM5.41 20L4 18.59l7.72-7.72 1.47 1.35L5.41 20z\"/>\n",
              "  </svg>\n",
              "      </button>\n",
              "      \n",
              "  <style>\n",
              "    .colab-df-container {\n",
              "      display:flex;\n",
              "      flex-wrap:wrap;\n",
              "      gap: 12px;\n",
              "    }\n",
              "\n",
              "    .colab-df-convert {\n",
              "      background-color: #E8F0FE;\n",
              "      border: none;\n",
              "      border-radius: 50%;\n",
              "      cursor: pointer;\n",
              "      display: none;\n",
              "      fill: #1967D2;\n",
              "      height: 32px;\n",
              "      padding: 0 0 0 0;\n",
              "      width: 32px;\n",
              "    }\n",
              "\n",
              "    .colab-df-convert:hover {\n",
              "      background-color: #E2EBFA;\n",
              "      box-shadow: 0px 1px 2px rgba(60, 64, 67, 0.3), 0px 1px 3px 1px rgba(60, 64, 67, 0.15);\n",
              "      fill: #174EA6;\n",
              "    }\n",
              "\n",
              "    [theme=dark] .colab-df-convert {\n",
              "      background-color: #3B4455;\n",
              "      fill: #D2E3FC;\n",
              "    }\n",
              "\n",
              "    [theme=dark] .colab-df-convert:hover {\n",
              "      background-color: #434B5C;\n",
              "      box-shadow: 0px 1px 3px 1px rgba(0, 0, 0, 0.15);\n",
              "      filter: drop-shadow(0px 1px 2px rgba(0, 0, 0, 0.3));\n",
              "      fill: #FFFFFF;\n",
              "    }\n",
              "  </style>\n",
              "\n",
              "      <script>\n",
              "        const buttonEl =\n",
              "          document.querySelector('#df-1fa1b4da-f4a4-480f-8484-920a44d4d87c button.colab-df-convert');\n",
              "        buttonEl.style.display =\n",
              "          google.colab.kernel.accessAllowed ? 'block' : 'none';\n",
              "\n",
              "        async function convertToInteractive(key) {\n",
              "          const element = document.querySelector('#df-1fa1b4da-f4a4-480f-8484-920a44d4d87c');\n",
              "          const dataTable =\n",
              "            await google.colab.kernel.invokeFunction('convertToInteractive',\n",
              "                                                     [key], {});\n",
              "          if (!dataTable) return;\n",
              "\n",
              "          const docLinkHtml = 'Like what you see? Visit the ' +\n",
              "            '<a target=\"_blank\" href=https://colab.research.google.com/notebooks/data_table.ipynb>data table notebook</a>'\n",
              "            + ' to learn more about interactive tables.';\n",
              "          element.innerHTML = '';\n",
              "          dataTable['output_type'] = 'display_data';\n",
              "          await google.colab.output.renderOutput(dataTable, element);\n",
              "          const docLink = document.createElement('div');\n",
              "          docLink.innerHTML = docLinkHtml;\n",
              "          element.appendChild(docLink);\n",
              "        }\n",
              "      </script>\n",
              "    </div>\n",
              "  </div>\n",
              "  "
            ]
          },
          "metadata": {},
          "execution_count": 86
        }
      ]
    },
    {
      "cell_type": "code",
      "source": [
        "# y"
      ],
      "metadata": {
        "id": "n_ukQAvHJTKx"
      },
      "execution_count": null,
      "outputs": []
    },
    {
      "cell_type": "code",
      "source": [
        "numeric_cols = X.select_dtypes(exclude='object').columns\n",
        "unordered_cols = ['infill_pattern', 'material']"
      ],
      "metadata": {
        "id": "7Oh7BcwZ-CUv"
      },
      "execution_count": null,
      "outputs": []
    },
    {
      "cell_type": "code",
      "source": [
        "print(numeric_cols)\n",
        "print(unordered_cols)"
      ],
      "metadata": {
        "colab": {
          "base_uri": "https://localhost:8080/"
        },
        "id": "1IJH1pBdFC5Y",
        "outputId": "a85512f0-222e-4a13-f4ca-dce28902988a"
      },
      "execution_count": null,
      "outputs": [
        {
          "output_type": "stream",
          "name": "stdout",
          "text": [
            "Index(['layer_height', 'wall_thickness', 'infill_density',\n",
            "       'nozzle_temperature', 'bed_temperature', 'print_speed', 'fan_speed'],\n",
            "      dtype='object')\n",
            "['infill_pattern', 'material']\n"
          ]
        }
      ]
    },
    {
      "cell_type": "code",
      "source": [
        "split = StratifiedShuffleSplit(n_splits=1, test_size=0.2, random_state = 0)\n",
        "for train_index, test_index in split.split(X, X['material']):\n",
        "  # print(\"TRAIN:\", train_index, \"TEST:\", test_index)\n",
        "  X_train, X_test = X.loc[train_index], X.loc[test_index]\n",
        "  y_train, y_test = y.loc[train_index], y.loc[test_index]"
      ],
      "metadata": {
        "id": "U63RPynBJnkm"
      },
      "execution_count": null,
      "outputs": []
    },
    {
      "cell_type": "code",
      "source": [
        "X_train.shape"
      ],
      "metadata": {
        "colab": {
          "base_uri": "https://localhost:8080/"
        },
        "id": "C7dtjApHK5VB",
        "outputId": "b3529c86-7216-4efb-a030-226adfac0f2b"
      },
      "execution_count": null,
      "outputs": [
        {
          "output_type": "execute_result",
          "data": {
            "text/plain": [
              "(40, 9)"
            ]
          },
          "metadata": {},
          "execution_count": 91
        }
      ]
    },
    {
      "cell_type": "code",
      "source": [
        "OHE = OneHotEncoder(handle_unknown='ignore', sparse=False)\n",
        "oh_cols_train = pd.DataFrame(OHE.fit_transform(X_train[unordered_cols]))\n",
        "oh_cols_test = pd.DataFrame(OHE.fit_transform(X_test[unordered_cols]))\n",
        "oh_cols_train.index = X_train.index\n",
        "oh_cols_test.index = X_test.index"
      ],
      "metadata": {
        "id": "hjDkSL58FIFr"
      },
      "execution_count": null,
      "outputs": []
    },
    {
      "cell_type": "code",
      "source": [
        "sc = StandardScaler()\n",
        "sc_cols_train = pd.DataFrame(sc.fit_transform(X_train[numeric_cols]))\n",
        "sc_cols_test = pd.DataFrame(sc.fit_transform(X_test[numeric_cols]))\n",
        "sc_cols_train.index = X_train.index\n",
        "sc_cols_test.index = X_test.index"
      ],
      "metadata": {
        "id": "lNR5tx5tLdhE"
      },
      "execution_count": null,
      "outputs": []
    },
    {
      "cell_type": "code",
      "source": [
        "# sc_cols_train"
      ],
      "metadata": {
        "id": "pICeE_gkMiP8"
      },
      "execution_count": null,
      "outputs": []
    },
    {
      "cell_type": "code",
      "source": [
        "encoded_X_train = pd.concat([oh_cols_train, sc_cols_train], axis = 1)\n",
        "encoded_X_test = pd.concat([oh_cols_test, sc_cols_test], axis = 1)"
      ],
      "metadata": {
        "id": "HjmzrY7oMHsB"
      },
      "execution_count": null,
      "outputs": []
    },
    {
      "cell_type": "code",
      "source": [
        "# encoded_X_test"
      ],
      "metadata": {
        "colab": {
          "base_uri": "https://localhost:8080/",
          "height": 363
        },
        "id": "IELDD5mdMby7",
        "outputId": "0625f1a2-cc5f-4408-cbe4-23c3037a70e8"
      },
      "execution_count": null,
      "outputs": [
        {
          "output_type": "execute_result",
          "data": {
            "text/plain": [
              "      0    1    2    3         0         1         2         3         4  \\\n",
              "45  0.0  1.0  0.0  1.0  1.368583 -0.034320  0.000000 -1.800853 -1.171700   \n",
              "0   1.0  0.0  1.0  0.0 -1.399338  0.995277  1.315587  0.046176 -1.171700   \n",
              "41  0.0  1.0  1.0  0.0  1.368583  1.338477  1.315587  0.507933 -0.520756   \n",
              "3   0.0  1.0  1.0  0.0 -1.399338 -0.377519  0.438529  1.893204  0.781133   \n",
              "36  1.0  0.0  0.0  1.0  0.599716 -0.377519 -0.438529 -1.339096 -0.520756   \n",
              "39  0.0  1.0  0.0  1.0  0.599716 -1.407116 -2.192645  0.046176  1.432078   \n",
              "19  0.0  1.0  0.0  1.0 -0.784244  1.681676 -0.438529  0.046176  1.432078   \n",
              "30  1.0  0.0  1.0  0.0  0.599716 -0.377519 -0.438529  0.046176 -1.171700   \n",
              "18  1.0  0.0  0.0  1.0 -0.784244 -0.034320  0.877058 -0.415581  0.781133   \n",
              "22  1.0  0.0  1.0  0.0 -0.169151 -1.407116 -0.438529  0.969690  0.130189   \n",
              "\n",
              "           5         6  \n",
              "45 -0.792406 -1.171700  \n",
              "0  -0.792406 -1.171700  \n",
              "41 -0.792406 -0.520756  \n",
              "3  -0.792406  0.781133  \n",
              "36  0.088045 -0.520756  \n",
              "39  0.088045  1.432078  \n",
              "19  0.088045  1.432078  \n",
              "30  0.088045 -1.171700  \n",
              "18  0.088045  0.781133  \n",
              "22  2.729398  0.130189  "
            ],
            "text/html": [
              "\n",
              "  <div id=\"df-58e54d4f-f023-4a6f-82ff-ec35a3b7c7a3\">\n",
              "    <div class=\"colab-df-container\">\n",
              "      <div>\n",
              "<style scoped>\n",
              "    .dataframe tbody tr th:only-of-type {\n",
              "        vertical-align: middle;\n",
              "    }\n",
              "\n",
              "    .dataframe tbody tr th {\n",
              "        vertical-align: top;\n",
              "    }\n",
              "\n",
              "    .dataframe thead th {\n",
              "        text-align: right;\n",
              "    }\n",
              "</style>\n",
              "<table border=\"1\" class=\"dataframe\">\n",
              "  <thead>\n",
              "    <tr style=\"text-align: right;\">\n",
              "      <th></th>\n",
              "      <th>0</th>\n",
              "      <th>1</th>\n",
              "      <th>2</th>\n",
              "      <th>3</th>\n",
              "      <th>0</th>\n",
              "      <th>1</th>\n",
              "      <th>2</th>\n",
              "      <th>3</th>\n",
              "      <th>4</th>\n",
              "      <th>5</th>\n",
              "      <th>6</th>\n",
              "    </tr>\n",
              "  </thead>\n",
              "  <tbody>\n",
              "    <tr>\n",
              "      <th>45</th>\n",
              "      <td>0.0</td>\n",
              "      <td>1.0</td>\n",
              "      <td>0.0</td>\n",
              "      <td>1.0</td>\n",
              "      <td>1.368583</td>\n",
              "      <td>-0.034320</td>\n",
              "      <td>0.000000</td>\n",
              "      <td>-1.800853</td>\n",
              "      <td>-1.171700</td>\n",
              "      <td>-0.792406</td>\n",
              "      <td>-1.171700</td>\n",
              "    </tr>\n",
              "    <tr>\n",
              "      <th>0</th>\n",
              "      <td>1.0</td>\n",
              "      <td>0.0</td>\n",
              "      <td>1.0</td>\n",
              "      <td>0.0</td>\n",
              "      <td>-1.399338</td>\n",
              "      <td>0.995277</td>\n",
              "      <td>1.315587</td>\n",
              "      <td>0.046176</td>\n",
              "      <td>-1.171700</td>\n",
              "      <td>-0.792406</td>\n",
              "      <td>-1.171700</td>\n",
              "    </tr>\n",
              "    <tr>\n",
              "      <th>41</th>\n",
              "      <td>0.0</td>\n",
              "      <td>1.0</td>\n",
              "      <td>1.0</td>\n",
              "      <td>0.0</td>\n",
              "      <td>1.368583</td>\n",
              "      <td>1.338477</td>\n",
              "      <td>1.315587</td>\n",
              "      <td>0.507933</td>\n",
              "      <td>-0.520756</td>\n",
              "      <td>-0.792406</td>\n",
              "      <td>-0.520756</td>\n",
              "    </tr>\n",
              "    <tr>\n",
              "      <th>3</th>\n",
              "      <td>0.0</td>\n",
              "      <td>1.0</td>\n",
              "      <td>1.0</td>\n",
              "      <td>0.0</td>\n",
              "      <td>-1.399338</td>\n",
              "      <td>-0.377519</td>\n",
              "      <td>0.438529</td>\n",
              "      <td>1.893204</td>\n",
              "      <td>0.781133</td>\n",
              "      <td>-0.792406</td>\n",
              "      <td>0.781133</td>\n",
              "    </tr>\n",
              "    <tr>\n",
              "      <th>36</th>\n",
              "      <td>1.0</td>\n",
              "      <td>0.0</td>\n",
              "      <td>0.0</td>\n",
              "      <td>1.0</td>\n",
              "      <td>0.599716</td>\n",
              "      <td>-0.377519</td>\n",
              "      <td>-0.438529</td>\n",
              "      <td>-1.339096</td>\n",
              "      <td>-0.520756</td>\n",
              "      <td>0.088045</td>\n",
              "      <td>-0.520756</td>\n",
              "    </tr>\n",
              "    <tr>\n",
              "      <th>39</th>\n",
              "      <td>0.0</td>\n",
              "      <td>1.0</td>\n",
              "      <td>0.0</td>\n",
              "      <td>1.0</td>\n",
              "      <td>0.599716</td>\n",
              "      <td>-1.407116</td>\n",
              "      <td>-2.192645</td>\n",
              "      <td>0.046176</td>\n",
              "      <td>1.432078</td>\n",
              "      <td>0.088045</td>\n",
              "      <td>1.432078</td>\n",
              "    </tr>\n",
              "    <tr>\n",
              "      <th>19</th>\n",
              "      <td>0.0</td>\n",
              "      <td>1.0</td>\n",
              "      <td>0.0</td>\n",
              "      <td>1.0</td>\n",
              "      <td>-0.784244</td>\n",
              "      <td>1.681676</td>\n",
              "      <td>-0.438529</td>\n",
              "      <td>0.046176</td>\n",
              "      <td>1.432078</td>\n",
              "      <td>0.088045</td>\n",
              "      <td>1.432078</td>\n",
              "    </tr>\n",
              "    <tr>\n",
              "      <th>30</th>\n",
              "      <td>1.0</td>\n",
              "      <td>0.0</td>\n",
              "      <td>1.0</td>\n",
              "      <td>0.0</td>\n",
              "      <td>0.599716</td>\n",
              "      <td>-0.377519</td>\n",
              "      <td>-0.438529</td>\n",
              "      <td>0.046176</td>\n",
              "      <td>-1.171700</td>\n",
              "      <td>0.088045</td>\n",
              "      <td>-1.171700</td>\n",
              "    </tr>\n",
              "    <tr>\n",
              "      <th>18</th>\n",
              "      <td>1.0</td>\n",
              "      <td>0.0</td>\n",
              "      <td>0.0</td>\n",
              "      <td>1.0</td>\n",
              "      <td>-0.784244</td>\n",
              "      <td>-0.034320</td>\n",
              "      <td>0.877058</td>\n",
              "      <td>-0.415581</td>\n",
              "      <td>0.781133</td>\n",
              "      <td>0.088045</td>\n",
              "      <td>0.781133</td>\n",
              "    </tr>\n",
              "    <tr>\n",
              "      <th>22</th>\n",
              "      <td>1.0</td>\n",
              "      <td>0.0</td>\n",
              "      <td>1.0</td>\n",
              "      <td>0.0</td>\n",
              "      <td>-0.169151</td>\n",
              "      <td>-1.407116</td>\n",
              "      <td>-0.438529</td>\n",
              "      <td>0.969690</td>\n",
              "      <td>0.130189</td>\n",
              "      <td>2.729398</td>\n",
              "      <td>0.130189</td>\n",
              "    </tr>\n",
              "  </tbody>\n",
              "</table>\n",
              "</div>\n",
              "      <button class=\"colab-df-convert\" onclick=\"convertToInteractive('df-58e54d4f-f023-4a6f-82ff-ec35a3b7c7a3')\"\n",
              "              title=\"Convert this dataframe to an interactive table.\"\n",
              "              style=\"display:none;\">\n",
              "        \n",
              "  <svg xmlns=\"http://www.w3.org/2000/svg\" height=\"24px\"viewBox=\"0 0 24 24\"\n",
              "       width=\"24px\">\n",
              "    <path d=\"M0 0h24v24H0V0z\" fill=\"none\"/>\n",
              "    <path d=\"M18.56 5.44l.94 2.06.94-2.06 2.06-.94-2.06-.94-.94-2.06-.94 2.06-2.06.94zm-11 1L8.5 8.5l.94-2.06 2.06-.94-2.06-.94L8.5 2.5l-.94 2.06-2.06.94zm10 10l.94 2.06.94-2.06 2.06-.94-2.06-.94-.94-2.06-.94 2.06-2.06.94z\"/><path d=\"M17.41 7.96l-1.37-1.37c-.4-.4-.92-.59-1.43-.59-.52 0-1.04.2-1.43.59L10.3 9.45l-7.72 7.72c-.78.78-.78 2.05 0 2.83L4 21.41c.39.39.9.59 1.41.59.51 0 1.02-.2 1.41-.59l7.78-7.78 2.81-2.81c.8-.78.8-2.07 0-2.86zM5.41 20L4 18.59l7.72-7.72 1.47 1.35L5.41 20z\"/>\n",
              "  </svg>\n",
              "      </button>\n",
              "      \n",
              "  <style>\n",
              "    .colab-df-container {\n",
              "      display:flex;\n",
              "      flex-wrap:wrap;\n",
              "      gap: 12px;\n",
              "    }\n",
              "\n",
              "    .colab-df-convert {\n",
              "      background-color: #E8F0FE;\n",
              "      border: none;\n",
              "      border-radius: 50%;\n",
              "      cursor: pointer;\n",
              "      display: none;\n",
              "      fill: #1967D2;\n",
              "      height: 32px;\n",
              "      padding: 0 0 0 0;\n",
              "      width: 32px;\n",
              "    }\n",
              "\n",
              "    .colab-df-convert:hover {\n",
              "      background-color: #E2EBFA;\n",
              "      box-shadow: 0px 1px 2px rgba(60, 64, 67, 0.3), 0px 1px 3px 1px rgba(60, 64, 67, 0.15);\n",
              "      fill: #174EA6;\n",
              "    }\n",
              "\n",
              "    [theme=dark] .colab-df-convert {\n",
              "      background-color: #3B4455;\n",
              "      fill: #D2E3FC;\n",
              "    }\n",
              "\n",
              "    [theme=dark] .colab-df-convert:hover {\n",
              "      background-color: #434B5C;\n",
              "      box-shadow: 0px 1px 3px 1px rgba(0, 0, 0, 0.15);\n",
              "      filter: drop-shadow(0px 1px 2px rgba(0, 0, 0, 0.3));\n",
              "      fill: #FFFFFF;\n",
              "    }\n",
              "  </style>\n",
              "\n",
              "      <script>\n",
              "        const buttonEl =\n",
              "          document.querySelector('#df-58e54d4f-f023-4a6f-82ff-ec35a3b7c7a3 button.colab-df-convert');\n",
              "        buttonEl.style.display =\n",
              "          google.colab.kernel.accessAllowed ? 'block' : 'none';\n",
              "\n",
              "        async function convertToInteractive(key) {\n",
              "          const element = document.querySelector('#df-58e54d4f-f023-4a6f-82ff-ec35a3b7c7a3');\n",
              "          const dataTable =\n",
              "            await google.colab.kernel.invokeFunction('convertToInteractive',\n",
              "                                                     [key], {});\n",
              "          if (!dataTable) return;\n",
              "\n",
              "          const docLinkHtml = 'Like what you see? Visit the ' +\n",
              "            '<a target=\"_blank\" href=https://colab.research.google.com/notebooks/data_table.ipynb>data table notebook</a>'\n",
              "            + ' to learn more about interactive tables.';\n",
              "          element.innerHTML = '';\n",
              "          dataTable['output_type'] = 'display_data';\n",
              "          await google.colab.output.renderOutput(dataTable, element);\n",
              "          const docLink = document.createElement('div');\n",
              "          docLink.innerHTML = docLinkHtml;\n",
              "          element.appendChild(docLink);\n",
              "        }\n",
              "      </script>\n",
              "    </div>\n",
              "  </div>\n",
              "  "
            ]
          },
          "metadata": {},
          "execution_count": 96
        }
      ]
    },
    {
      "cell_type": "code",
      "source": [
        "from sklearn.linear_model import LinearRegression"
      ],
      "metadata": {
        "id": "juVmcJAFOlLh"
      },
      "execution_count": null,
      "outputs": []
    },
    {
      "cell_type": "code",
      "source": [
        "from sklearn.metrics import mean_squared_error\n",
        "def score_dataset(X_train, X_test, y_train, y_test, model):\n",
        "  model = model\n",
        "  model.fit(X_train, y_train)\n",
        "  preds = model.predict(X_test)\n",
        "  rmse = np.sqrt(mean_squared_error(y_test, preds))\n",
        "  return rmse"
      ],
      "metadata": {
        "id": "51Rox0e4O6-w"
      },
      "execution_count": null,
      "outputs": []
    },
    {
      "cell_type": "code",
      "source": [
        "lr_model = LinearRegression()\n",
        "score_dataset(encoded_X_train, encoded_X_test, y_train, y_test, lr_model)"
      ],
      "metadata": {
        "colab": {
          "base_uri": "https://localhost:8080/"
        },
        "id": "628Heq4ROwsn",
        "outputId": "c16050da-58d5-444f-96c6-9e165d12464a"
      },
      "execution_count": null,
      "outputs": [
        {
          "output_type": "execute_result",
          "data": {
            "text/plain": [
              "7.428783164896668"
            ]
          },
          "metadata": {},
          "execution_count": 103
        }
      ]
    },
    {
      "cell_type": "code",
      "source": [
        "from sklearn.ensemble import RandomForestRegressor \n",
        "RF_model = RandomForestRegressor()\n",
        "score_dataset(encoded_X_train, encoded_X_test, y_train, y_test, RF_model)"
      ],
      "metadata": {
        "colab": {
          "base_uri": "https://localhost:8080/"
        },
        "id": "ncE_nKRkP6KX",
        "outputId": "c23bc443-e8f9-4c79-8bc3-ae5d49ef64ef"
      },
      "execution_count": null,
      "outputs": [
        {
          "output_type": "execute_result",
          "data": {
            "text/plain": [
              "6.338038340054436"
            ]
          },
          "metadata": {},
          "execution_count": 105
        }
      ]
    },
    {
      "cell_type": "code",
      "source": [
        "from sklearn.tree import DecisionTreeRegressor\n",
        "DT_model = DecisionTreeRegressor()\n",
        "score_dataset(encoded_X_train, encoded_X_test, y_train, y_test, DT_model)"
      ],
      "metadata": {
        "colab": {
          "base_uri": "https://localhost:8080/"
        },
        "id": "BacnRYj0QHRv",
        "outputId": "66c18a7f-b916-4fcf-c699-46cf5575ad60"
      },
      "execution_count": null,
      "outputs": [
        {
          "output_type": "execute_result",
          "data": {
            "text/plain": [
              "9.50263121456368"
            ]
          },
          "metadata": {},
          "execution_count": 106
        }
      ]
    },
    {
      "cell_type": "code",
      "source": [
        "from sklearn.svm import SVR\n",
        "svr_model = SVR()\n",
        "score_dataset(encoded_X_train, encoded_X_test, y_train, y_test, svr_model)"
      ],
      "metadata": {
        "colab": {
          "base_uri": "https://localhost:8080/"
        },
        "id": "CiK3QondQTQk",
        "outputId": "4b4741d9-9547-4386-9c43-5f0a95cae983"
      },
      "execution_count": null,
      "outputs": [
        {
          "output_type": "execute_result",
          "data": {
            "text/plain": [
              "9.213574120615862"
            ]
          },
          "metadata": {},
          "execution_count": 107
        }
      ]
    },
    {
      "cell_type": "code",
      "source": [
        ""
      ],
      "metadata": {
        "id": "r5ulRzm7QbAF"
      },
      "execution_count": null,
      "outputs": []
    }
  ]
}